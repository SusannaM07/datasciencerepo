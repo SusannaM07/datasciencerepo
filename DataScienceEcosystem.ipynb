{
 "cells": [
  {
   "cell_type": "markdown",
   "id": "48e601c2-2e08-4efb-8533-880918f07c0a",
   "metadata": {},
   "source": [
    "# Data Science Tools and Ecosystem"
   ]
  },
  {
   "cell_type": "markdown",
   "id": "40ec3ce2-6d6a-4c97-b659-6db3ba73799d",
   "metadata": {},
   "source": [
    "## In this notebook, Data Science Tools and Ecosystem are summarized."
   ]
  },
  {
   "cell_type": "markdown",
   "id": "0db86609-fad3-453a-8269-6bf433956599",
   "metadata": {},
   "source": [
    "**Objectives:**\n",
    "- Describe the components of a Data Scientist's toolkit and list various tool categories.\n",
    "- List examples of open-source tools used in data science.\n",
    "- Describe the relevant features of open-source tools.\n",
    "- List examples of commercial and cloud-based data science tools."
   ]
  },
  {
   "cell_type": "markdown",
   "id": "1d85e7f5-31b2-49fa-8dee-912bfad8710b",
   "metadata": {},
   "source": [
    "### Some of the popular languages that Data Scientists use are:\n",
    "1. R\n",
    "2. Python\n",
    "3. SQL"
   ]
  },
  {
   "cell_type": "markdown",
   "id": "9e39e7af-67dc-4e79-b69e-1ab36bcf514c",
   "metadata": {},
   "source": [
    "### Some of the commonly used libraries used by Data Scientists include:\n",
    "1. Pandas\n",
    "2. NumPy\n",
    "3. SciPy\n",
    "4. Matplotlib"
   ]
  },
  {
   "cell_type": "markdown",
   "id": "7081d447-b498-4f68-be11-f8d8756de03c",
   "metadata": {},
   "source": [
    "| Date Science tools    |\n",
    "| -------- | \n",
    "| IBM Watson Studio  |\n",
    "| Spyder |\n",
    "| Google colab    |"
   ]
  },
  {
   "cell_type": "markdown",
   "id": "27f392aa-abda-4001-b8be-38d04e257542",
   "metadata": {},
   "source": [
    "### Below are a few examples of evaluating arithmetic expressions in Python"
   ]
  },
  {
   "cell_type": "code",
   "execution_count": 3,
   "id": "0c8e7466-c49e-467e-94ee-7c94c12feb6e",
   "metadata": {
    "tags": []
   },
   "outputs": [
    {
     "data": {
      "text/plain": [
       "17"
      ]
     },
     "execution_count": 3,
     "metadata": {},
     "output_type": "execute_result"
    }
   ],
   "source": [
    "# This a simple arithmetic expression to mutiply then add integers\n",
    "(3*4)+5"
   ]
  },
  {
   "cell_type": "code",
   "execution_count": 4,
   "id": "7c50ff01-80e7-4d62-b89d-245683d1cb4d",
   "metadata": {
    "tags": []
   },
   "outputs": [
    {
     "data": {
      "text/plain": [
       "3.3333333333333335"
      ]
     },
     "execution_count": 4,
     "metadata": {},
     "output_type": "execute_result"
    }
   ],
   "source": [
    "# This will convert 200 minutes to hours by diving by 60\n",
    "200/60"
   ]
  },
  {
   "cell_type": "markdown",
   "id": "0519885b-c887-484d-a904-02794cbe4497",
   "metadata": {},
   "source": [
    "## Author\n",
    "Susanna Murumalla"
   ]
  }
 ],
 "metadata": {
  "kernelspec": {
   "display_name": "Python",
   "language": "python",
   "name": "conda-env-python-py"
  },
  "language_info": {
   "codemirror_mode": {
    "name": "ipython",
    "version": 3
   },
   "file_extension": ".py",
   "mimetype": "text/x-python",
   "name": "python",
   "nbconvert_exporter": "python",
   "pygments_lexer": "ipython3",
   "version": "3.7.12"
  }
 },
 "nbformat": 4,
 "nbformat_minor": 5
}
